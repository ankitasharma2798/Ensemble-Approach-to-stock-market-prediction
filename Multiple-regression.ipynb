{
 "cells": [
  {
   "cell_type": "code",
   "execution_count": 158,
   "metadata": {},
   "outputs": [],
   "source": [
    "\n",
    "from sklearn import linear_model\n",
    "import matplotlib.pyplot as plt\n",
    "\n",
    "from matplotlib import style\n",
    "import pandas as pd\n",
    "import numpy as np\n",
    "\n",
    "from sklearn.model_selection import train_test_split\n",
    "\n",
    "from sklearn import preprocessing\n"
   ]
  },
  {
   "cell_type": "code",
   "execution_count": 159,
   "metadata": {},
   "outputs": [],
   "source": [
    "ldt=pd.read_csv('yahoostock.csv')"
   ]
  },
  {
   "cell_type": "code",
   "execution_count": 160,
   "metadata": {},
   "outputs": [],
   "source": [
    "ldta=ldt[['Open']]\n",
    "ldtx=ldt[['Open','High','Low','Volume']]\n",
    "ldty=ldt[['Close']]\n",
    "ldto=ldty.iloc[0:100,:]\n",
    "ldto=ldto[::-1]\n",
    "ldtp=ldtx.iloc[:100,:]\n",
    "ldtp=ldtp[::-1]\n",
    "ldto=ldto.values"
   ]
  },
  {
   "cell_type": "code",
   "execution_count": 161,
   "metadata": {},
   "outputs": [],
   "source": [
    "ldtx=ldtx.iloc[100:,:]\n",
    "ldty=ldty.iloc[100:,:]\n",
    "count=0\n",
    "original=0"
   ]
  },
  {
   "cell_type": "code",
   "execution_count": 162,
   "metadata": {},
   "outputs": [],
   "source": [
    "lf=linear_model.LinearRegression()"
   ]
  },
  {
   "cell_type": "code",
   "execution_count": 163,
   "metadata": {},
   "outputs": [],
   "source": [
    "ltrainx,ltestx,ltrainy,ltesty=train_test_split(ldtx,ldty,test_size=0.1,random_state=4)"
   ]
  },
  {
   "cell_type": "code",
   "execution_count": 164,
   "metadata": {},
   "outputs": [
    {
     "data": {
      "text/plain": [
       "LinearRegression(copy_X=True, fit_intercept=True, n_jobs=None,\n",
       "         normalize=False)"
      ]
     },
     "execution_count": 164,
     "metadata": {},
     "output_type": "execute_result"
    }
   ],
   "source": [
    "lf.fit(ltrainx,ltrainy)"
   ]
  },
  {
   "cell_type": "code",
   "execution_count": 165,
   "metadata": {},
   "outputs": [
    {
     "data": {
      "text/plain": [
       "array([[33.59689013],\n",
       "       [32.74130095],\n",
       "       [33.35891021],\n",
       "       [32.70333482],\n",
       "       [33.53719919],\n",
       "       [33.51300151],\n",
       "       [36.05113731],\n",
       "       [34.4327989 ],\n",
       "       [34.9093709 ],\n",
       "       [34.61529971],\n",
       "       [34.67187663],\n",
       "       [33.66125554],\n",
       "       [34.18194474],\n",
       "       [33.1078834 ],\n",
       "       [32.58594147],\n",
       "       [33.21107976],\n",
       "       [33.53719822],\n",
       "       [33.42151175],\n",
       "       [33.33284799],\n",
       "       [32.87194938],\n",
       "       [33.9850625 ],\n",
       "       [34.28604441],\n",
       "       [34.52708398],\n",
       "       [33.40985974],\n",
       "       [34.02856607],\n",
       "       [33.5447049 ],\n",
       "       [33.53992162],\n",
       "       [31.49368725],\n",
       "       [32.16837305],\n",
       "       [32.25893705],\n",
       "       [30.35156713],\n",
       "       [30.96210767],\n",
       "       [29.95450443],\n",
       "       [30.57219696],\n",
       "       [29.80802308],\n",
       "       [29.60053419],\n",
       "       [29.10369934],\n",
       "       [29.51959573],\n",
       "       [27.7972361 ],\n",
       "       [29.15813122],\n",
       "       [29.86666331],\n",
       "       [30.06769111],\n",
       "       [29.9758718 ],\n",
       "       [30.03309163],\n",
       "       [28.94374007],\n",
       "       [28.9415458 ],\n",
       "       [29.28415246],\n",
       "       [29.12294225],\n",
       "       [27.08620063],\n",
       "       [28.87551323],\n",
       "       [27.99944048],\n",
       "       [26.97464589],\n",
       "       [27.4034024 ],\n",
       "       [27.44679062],\n",
       "       [26.60682987],\n",
       "       [26.93024561],\n",
       "       [29.17998479],\n",
       "       [29.26009688],\n",
       "       [29.88759384],\n",
       "       [29.80124812],\n",
       "       [30.89757287],\n",
       "       [30.75520088],\n",
       "       [30.47649652],\n",
       "       [30.83596798],\n",
       "       [31.45939409],\n",
       "       [32.27195809],\n",
       "       [32.70111918],\n",
       "       [33.10283377],\n",
       "       [32.85708076],\n",
       "       [33.64212279],\n",
       "       [34.18752387],\n",
       "       [33.09580435],\n",
       "       [33.16291968],\n",
       "       [32.32969062],\n",
       "       [33.36395823],\n",
       "       [33.79325688],\n",
       "       [33.2236178 ],\n",
       "       [33.86172991],\n",
       "       [34.39900297],\n",
       "       [34.95742012],\n",
       "       [35.90169106],\n",
       "       [35.43256346],\n",
       "       [35.02166182],\n",
       "       [34.34129556],\n",
       "       [34.76242946],\n",
       "       [36.17880001],\n",
       "       [37.01498563],\n",
       "       [36.90877541],\n",
       "       [36.60005107],\n",
       "       [37.32799441],\n",
       "       [36.44709777],\n",
       "       [36.81099379],\n",
       "       [36.94634526],\n",
       "       [35.86259195],\n",
       "       [36.69264394],\n",
       "       [36.45005985],\n",
       "       [37.22462348],\n",
       "       [36.94638328],\n",
       "       [36.52869454],\n",
       "       [36.56007336]])"
      ]
     },
     "execution_count": 165,
     "metadata": {},
     "output_type": "execute_result"
    }
   ],
   "source": [
    "ls=lf.predict(ldtp)\n",
    "ls"
   ]
  },
  {
   "cell_type": "code",
   "execution_count": 166,
   "metadata": {},
   "outputs": [],
   "source": [
    "for i in range(len(ls)):\n",
    "    if (ls[i]>ldto[i]):\n",
    "        count=((ls[i]-ldto[i])/ldto[i])\n",
    "        original=original+count\n",
    "    if (ls[i]<ldto[i]):\n",
    "        count=((ldto[i]-ls[i])/ldto[i])\n",
    "        original=original+count\n",
    "\n",
    "       \n",
    "       "
   ]
  },
  {
   "cell_type": "code",
   "execution_count": 167,
   "metadata": {},
   "outputs": [
    {
     "name": "stdout",
     "output_type": "stream",
     "text": [
      "Accuracy [99.24856832]\n"
     ]
    }
   ],
   "source": [
    "t=100-((original/len(ls))*100)\n",
    "print(\"Accuracy\",t)"
   ]
  },
  {
   "cell_type": "code",
   "execution_count": 168,
   "metadata": {},
   "outputs": [
    {
     "data": {
      "image/png": "[encoded data removed]",
      "text/plain": [
       "<Figure size 432x288 with 1 Axes>"
      ]
     },
     "metadata": {
      "needs_background": "light"
     },
     "output_type": "display_data"
    }
   ],
   "source": [
    "import matplotlib.pyplot as plt2\n",
    "\n",
    "plt2.plot(ls,color='red', label='prediction')\n",
    "plt2.plot(ldto,color='blue', label='y_test')\n",
    "plt2.legend(loc='upper left')\n",
    "plt2.xlabel('days>')\n",
    "plt2.ylabel('prices->')\n",
    "plt2.show()"
   ]
  },
  {
   "cell_type": "code",
   "execution_count": null,
   "metadata": {},
   "outputs": [],
   "source": []
  },
  {
   "cell_type": "code",
   "execution_count": null,
   "metadata": {},
   "outputs": [],
   "source": []
  },
  {
   "cell_type": "code",
   "execution_count": null,
   "metadata": {},
   "outputs": [],
   "source": []
  },
  {
   "cell_type": "code",
   "execution_count": null,
   "metadata": {},
   "outputs": [],
   "source": []
  },
  {
   "cell_type": "code",
   "execution_count": null,
   "metadata": {},
   "outputs": [],
   "source": []
  },
  {
   "cell_type": "code",
   "execution_count": null,
   "metadata": {},
   "outputs": [],
   "source": []
  },
  {
   "cell_type": "code",
   "execution_count": null,
   "metadata": {},
   "outputs": [],
   "source": []
  },
  {
   "cell_type": "code",
   "execution_count": null,
   "metadata": {},
   "outputs": [],
   "source": []
  }
 ],
 "metadata": {
  "kernelspec": {
   "display_name": "Python 3",
   "language": "python",
   "name": "python3"
  },
  "language_info": {
   "codemirror_mode": {
    "name": "ipython",
    "version": 3
   },
   "file_extension": ".py",
   "mimetype": "text/x-python",
   "name": "python",
   "nbconvert_exporter": "python",
   "pygments_lexer": "ipython3",
   "version": "3.6.7"
  }
 },
 "nbformat": 4,
 "nbformat_minor": 2
}
